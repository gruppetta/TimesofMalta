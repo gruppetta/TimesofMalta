{
 "cells": [
  {
   "cell_type": "markdown",
   "id": "fb6859cb-bffd-41ad-9ac5-56082dbd823f",
   "metadata": {},
   "source": [
    "# Extracting quotes using OpenAI and Citron. \n",
    "\n",
    "The script below is a short demonstration of how we can use OpenAI's chat completion model to extract quotes from news articles. As we will see, whilst the accuracy and ability to extract indirect quotes is quite high, it is difficult to extract the data in a structured format.\n",
    "\n",
    "Citron on the other hand is well structured, but not as accurate when it comes to naming persons. "
   ]
  },
  {
   "cell_type": "markdown",
   "id": "9e0075a2-458d-4ec8-ba2b-c69493d33504",
   "metadata": {},
   "source": [
    "Part 1. OpenAI"
   ]
  },
  {
   "cell_type": "code",
   "execution_count": 17,
   "id": "9874ad69-c92e-402f-b930-241fc6d6458b",
   "metadata": {},
   "outputs": [],
   "source": [
    "import os\n",
    "import openai\n",
    "\n",
    "api_key = 'xxxx'\n",
    "GPT_MODEL = \"gpt-3.5-turbo\"\n",
    "openai.api_key = api_key"
   ]
  },
  {
   "cell_type": "code",
   "execution_count": 23,
   "id": "d1218457-14d8-4063-be1b-09bc5c0f2390",
   "metadata": {},
   "outputs": [],
   "source": [
    "def generate_response(article_body):\n",
    "    \"\"\"\n",
    "    Generates a response by using OpenAI Chat Completion API to process the given article body.\n",
    "\n",
    "    Parameters:\n",
    "    - article_body (str): The body of the article.\n",
    "\n",
    "    Returns:\n",
    "    - str: The generated response.\n",
    "\n",
    "    Raises:\n",
    "    - Exception: If an error occurs during the API call.\n",
    "    \"\"\"\n",
    "    retries = 1  # Number of retries in case of a disconnection\n",
    "    for retry in range(1, retries + 2):\n",
    "        try:\n",
    "            response = openai.ChatCompletion.create(\n",
    "                model=GPT_MODEL,\n",
    "                messages=[\n",
    "                    {\"role\": \"system\", \"content\": \"\"\"You are a journalist finding direct & indirect quotes from news articles. Your answer should be in the form of a python dictionary \"{Person:Quote}\". The quotes should match the article exactly\"\"\"},\n",
    "                    {\"role\": \"user\", \"content\": f\"Body: {article_body}\"}\n",
    "                ],\n",
    "                max_tokens=500,\n",
    "                temperature=0.5\n",
    "            )\n",
    "            return response.choices[0].message['content']\n",
    "        except Exception as e:\n",
    "            print(f\"An error occurred: {str(e)}\")\n",
    "            if retry <= retries:\n",
    "                print(f\"Retrying in 5 seconds... (Attempt {retry})\")\n",
    "                time.sleep(2)\n",
    "            else:\n",
    "                print(\"Max retries reached. Skipping this article.\")\n",
    "    return \"Error: Unable to generate response\""
   ]
  },
  {
   "cell_type": "code",
   "execution_count": 24,
   "id": "66773f41-65ed-4df1-b3a4-059ec041a311",
   "metadata": {},
   "outputs": [
    {
     "name": "stdout",
     "output_type": "stream",
     "text": [
      "{\"Ian Ritchie\": \"I presented to Muscat the view from Hastings Gardens towards Mdina, saying high-rise buildings would destroy one of the world’s great views.\", \"Ian Ritchie\": \"But that message seemed “contrary to the economic drive of those in charge of the country at the time”\", \"Ian Ritchie\": \"What he got in return from Muscat was “silence”.\"}\n"
     ]
    }
   ],
   "source": [
    "article = \"\"\"Title: ‘I warned Muscat against high-rise buildings. I got silence’\n",
    "Description: Trident Park and the Brewhouse designed to avoid compromising the island’s skyline and historic sightlines between Valletta and Mdina\n",
    "\n",
    "Celebrated British architect IAN RITCHIE, involved in projects such as the Louvre’s glass pyramid in Paris and now Farsons’ Trident Park, tells Fiona Galea Debono about what he learned from 10 years in Malta.\n",
    "\n",
    "The world-renowned architect behind Farsons’ low-lying Trident Park and regenerated Brewhouse believes the day will come when high-rise buildings will be torn down as he contemplates the “disfiguration” of Malta.\n",
    "\n",
    "It has been a 10-year journey on the island for Ian Ritchie, who has worked on the newly inaugurated office space and iconic brewery transformation since 2014, and who now weighs in on the direction the country has headed along the way.\n",
    "\n",
    "Ritchie recalls alerting former prime minister Joseph Muscat to the impact of high-rise structures in the vicinity of the Farsons project in a meeting about the improvement of Mrieħel through a master plan for the industrial area.\n",
    "\n",
    "Trident Park and the Brewhouse were designed to avoid compromising the island’s skyline and historic sightlines between Valletta and Mdina.\n",
    "\n",
    "“I presented to Muscat the view from Hastings Gardens towards Mdina, saying high-rise buildings would destroy one of the world’s great views.”\n",
    "\n",
    "But that message seemed “contrary to the economic drive of those in charge of the country at the time”, Ritchie relates.\n",
    "\n",
    "What he got in return from Muscat was “silence”.\"\"\"\n",
    "\n",
    "response = generate_response(article)\n",
    "print(response)\n"
   ]
  },
  {
   "cell_type": "markdown",
   "id": "0dd1323f-6344-4073-8aee-10b39a62dd1c",
   "metadata": {},
   "source": [
    "Part 2. Using Citron"
   ]
  },
  {
   "cell_type": "code",
   "execution_count": 20,
   "id": "906977bc-7b87-4eb6-a09d-88ea84520131",
   "metadata": {
    "collapsed": true,
    "jupyter": {
     "outputs_hidden": true
    },
    "tags": []
   },
   "outputs": [
    {
     "name": "stderr",
     "output_type": "stream",
     "text": [
      "2023-07-16 13:00:33 INFO utils: Loading spacy model\n",
      "2023-07-16 13:00:34 INFO citron: Loading Citron model: C:\\Users\\grupp\\Python Files\\citron-main\\models\\en_2021-11-15\n",
      "C:\\Users\\grupp\\anaconda3\\lib\\site-packages\\sklearn\\base.py:318: UserWarning: Trying to unpickle estimator LogisticRegression from version 1.0.1 when using version 1.2.2. This might lead to breaking code or invalid results. Use at your own risk. For more info please refer to:\n",
      "https://scikit-learn.org/stable/model_persistence.html#security-maintainability-limitations\n",
      "  warnings.warn(\n",
      "C:\\Users\\grupp\\anaconda3\\lib\\site-packages\\sklearn\\base.py:318: UserWarning: Trying to unpickle estimator DictVectorizer from version 1.0.1 when using version 1.2.2. This might lead to breaking code or invalid results. Use at your own risk. For more info please refer to:\n",
      "https://scikit-learn.org/stable/model_persistence.html#security-maintainability-limitations\n",
      "  warnings.warn(\n"
     ]
    }
   ],
   "source": [
    "import sys\n",
    "sys.path.append(r\"C:\\Users\\grupp\\Python Files\\citron-main\")\n",
    "\n",
    "from citron.citron import Citron\n",
    "from citron import utils\n",
    "\n",
    "# Let's try to handle the error where it occurs\n",
    "try:\n",
    "    nlp = utils.get_parser()\n",
    "except ValueError:\n",
    "    # If 'to_json' extension is already set, reload the 'en_core_web_sm' model\n",
    "    import spacy\n",
    "    nlp = spacy.load('en_core_web_sm')\n",
    "\n",
    "citron = Citron(r\"C:\\Users\\grupp\\Python Files\\citron-main\\models\\en_2021-11-15\", nlp)\n"
   ]
  },
  {
   "cell_type": "code",
   "execution_count": 21,
   "id": "abaa21b0-0a41-42c5-8c06-c1790e3b513e",
   "metadata": {},
   "outputs": [],
   "source": [
    "# Define the text you want to analyze\n",
    "text = \"\"\"Title: ‘I warned Muscat against high-rise buildings. I got silence’\n",
    "Description: Trident Park and the Brewhouse designed to avoid compromising the island’s skyline and historic sightlines between Valletta and Mdina\n",
    "\n",
    "Celebrated British architect IAN RITCHIE, involved in projects such as the Louvre’s glass pyramid in Paris and now Farsons’ Trident Park, tells Fiona Galea Debono about what he learned from 10 years in Malta.\n",
    "\n",
    "The world-renowned architect behind Farsons’ low-lying Trident Park and regenerated Brewhouse believes the day will come when high-rise buildings will be torn down as he contemplates the “disfiguration” of Malta.\n",
    "\n",
    "It has been a 10-year journey on the island for Ian Ritchie, who has worked on the newly inaugurated office space and iconic brewery transformation since 2014, and who now weighs in on the direction the country has headed along the way.\n",
    "\n",
    "Ritchie recalls alerting former prime minister Joseph Muscat to the impact of high-rise structures in the vicinity of the Farsons project in a meeting about the improvement of Mrieħel through a master plan for the industrial area.\n",
    "\n",
    "Trident Park and the Brewhouse were designed to avoid compromising the island’s skyline and historic sightlines between Valletta and Mdina.\n",
    "\n",
    "“I presented to Muscat the view from Hastings Gardens towards Mdina, saying high-rise buildings would destroy one of the world’s great views.”\n",
    "\n",
    "But that message seemed “contrary to the economic drive of those in charge of the country at the time”, Ritchie relates.\n",
    "\n",
    "What he got in return from Muscat was “silence”.\"\"\"\n"
   ]
  },
  {
   "cell_type": "code",
   "execution_count": 30,
   "id": "adfd45d2-32db-489c-ae42-32faff62171b",
   "metadata": {},
   "outputs": [
    {
     "name": "stdout",
     "output_type": "stream",
     "text": [
      "Quote: the day will come when high-rise buildings will be torn down as he contemplates the “disfiguration” of Malta, Speaker: The world-renowned architect behind Farsons\n",
      "Quote: alerting former prime minister Joseph Muscat to the impact of high-rise structures in the vicinity of the Farsons project in a meeting about the improvement of Mrieħel through a master plan for the industrial area, Speaker: Ian Ritchie\n"
     ]
    }
   ],
   "source": [
    "# Use the `extract` method to analyze the text\n",
    "result = citron.extract(text)\n",
    "\n",
    "# If you want to use `get_quotes`, you would first need to convert your text to a spaCy Doc object:\n",
    "doc = nlp(text)\n",
    "\n",
    "# Print the extracted quotes from the result\n",
    "quotes = result['quotes']\n",
    "for quote in quotes:\n",
    "    sources_text = [source['text'] for source in quote['sources']]\n",
    "    contents_text = [content['text'] for content in quote['contents']]\n",
    "    print(f\"Quote: {' '.join(contents_text)}, Speaker: {' '.join(sources_text)}\")\n"
   ]
  },
  {
   "cell_type": "markdown",
   "id": "5b57ac2f-deae-4eba-84dc-8650efff2cde",
   "metadata": {},
   "source": [
    "Part 3 - More complex articles and topic extraction. "
   ]
  },
  {
   "cell_type": "code",
   "execution_count": null,
   "id": "d5b9e3e2-b5c6-4ea5-9850-ecae3af838d3",
   "metadata": {},
   "outputs": [],
   "source": []
  }
 ],
 "metadata": {
  "kernelspec": {
   "display_name": "Python 3 (ipykernel)",
   "language": "python",
   "name": "python3"
  },
  "language_info": {
   "codemirror_mode": {
    "name": "ipython",
    "version": 3
   },
   "file_extension": ".py",
   "mimetype": "text/x-python",
   "name": "python",
   "nbconvert_exporter": "python",
   "pygments_lexer": "ipython3",
   "version": "3.10.9"
  }
 },
 "nbformat": 4,
 "nbformat_minor": 5
}
