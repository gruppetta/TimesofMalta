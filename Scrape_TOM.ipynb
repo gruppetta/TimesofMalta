{
 "cells": [
  {
   "cell_type": "markdown",
   "id": "4ed4ce4c-a4bc-4d33-8ca4-0d2f92a3eb32",
   "metadata": {},
   "source": [
    "# Creating a dataframe of news articles\n",
    "\n",
    "Step 1. Collecting URLs"
   ]
  },
  {
   "cell_type": "markdown",
   "id": "4c484c4f-90c0-474c-8b79-939e0929c4f1",
   "metadata": {},
   "source": [
    "*Importing libraries*"
   ]
  },
  {
   "cell_type": "code",
   "execution_count": 1,
   "id": "09dc7640-c5fe-4a8d-b267-8f606c02f2b8",
   "metadata": {},
   "outputs": [],
   "source": [
    "import requests\n",
    "from bs4 import BeautifulSoup\n",
    "import json\n",
    "import pandas as pd\n",
    "import random\n",
    "import time"
   ]
  },
  {
   "cell_type": "markdown",
   "id": "aad4f3bc-b09e-40bf-8339-30579d54124b",
   "metadata": {},
   "source": [
    "*Scrape URL function*"
   ]
  },
  {
   "cell_type": "code",
   "execution_count": 2,
   "id": "255a1ab3-79de-49a5-842a-900e5e11fc02",
   "metadata": {},
   "outputs": [],
   "source": [
    "# Scrape URLs by any search term\n",
    "def scrape_urls_word(keywords, num_pages):\n",
    "    base_url = 'https://timesofmalta.com'\n",
    "    urls = []\n",
    "\n",
    "    for keyword in keywords:\n",
    "        for page in range(1, num_pages + 1):\n",
    "            search_url = f'{base_url}/search?keywords={keyword}&author=0&tags=0&sort=date&order=desc&fields%5B0%5D=title&fields%5B1%5D=body&page={page}'\n",
    "\n",
    "            response = requests.get(search_url)\n",
    "            soup = BeautifulSoup(response.content, 'html.parser')\n",
    "\n",
    "            # Find the script tag with id 'listing-ld'\n",
    "            script_tag = soup.find('script', {'id': 'listing-ld'})\n",
    "\n",
    "            if script_tag:\n",
    "                # Extract the JSON data from the script tag\n",
    "                json_data = script_tag.string\n",
    "\n",
    "                # Parse the JSON data\n",
    "                data = json.loads(json_data)\n",
    "\n",
    "                # Extract the URLs from the 'url' key in the JSON data\n",
    "                if isinstance(data, dict) and '@graph' in data:\n",
    "                    for item in data['@graph']:\n",
    "                        if '@type' in item and item['@type'] == 'NewsArticle' and 'url' in item:\n",
    "                            url = item['url']\n",
    "                            urls.append((url, keyword))\n",
    "\n",
    "    return urls"
   ]
  },
  {
   "cell_type": "markdown",
   "id": "27957a99-4e46-45b4-802a-d1258af63768",
   "metadata": {},
   "source": [
    "*Applying function to 2 keywords*"
   ]
  },
  {
   "cell_type": "code",
   "execution_count": 5,
   "id": "33e0d3e9-f5e8-41d7-83c6-4a2f59eb39d5",
   "metadata": {},
   "outputs": [],
   "source": [
    "keywords = ['murder', 'national']\n",
    "num_pages = 1\n",
    "\n",
    "urls = scrape_urls_word(keywords, num_pages)\n",
    "df = pd.DataFrame(urls, columns=['URL', 'Keyword'])"
   ]
  },
  {
   "cell_type": "code",
   "execution_count": 6,
   "id": "0421ef42-4aa7-4ce7-ade9-a588565e5025",
   "metadata": {},
   "outputs": [
    {
     "data": {
      "text/html": [
       "<div>\n",
       "<style scoped>\n",
       "    .dataframe tbody tr th:only-of-type {\n",
       "        vertical-align: middle;\n",
       "    }\n",
       "\n",
       "    .dataframe tbody tr th {\n",
       "        vertical-align: top;\n",
       "    }\n",
       "\n",
       "    .dataframe thead th {\n",
       "        text-align: right;\n",
       "    }\n",
       "</style>\n",
       "<table border=\"1\" class=\"dataframe\">\n",
       "  <thead>\n",
       "    <tr style=\"text-align: right;\">\n",
       "      <th></th>\n",
       "      <th>URL</th>\n",
       "      <th>Keyword</th>\n",
       "    </tr>\n",
       "  </thead>\n",
       "  <tbody>\n",
       "    <tr>\n",
       "      <th>0</th>\n",
       "      <td>https://timesofmalta.com/articles/view/libel-j...</td>\n",
       "      <td>murder</td>\n",
       "    </tr>\n",
       "    <tr>\n",
       "      <th>1</th>\n",
       "      <td>https://timesofmalta.com/articles/view/daughte...</td>\n",
       "      <td>murder</td>\n",
       "    </tr>\n",
       "    <tr>\n",
       "      <th>2</th>\n",
       "      <td>https://timesofmalta.com/articles/view/executi...</td>\n",
       "      <td>murder</td>\n",
       "    </tr>\n",
       "    <tr>\n",
       "      <th>3</th>\n",
       "      <td>https://timesofmalta.com/articles/view/two-acc...</td>\n",
       "      <td>murder</td>\n",
       "    </tr>\n",
       "    <tr>\n",
       "      <th>4</th>\n",
       "      <td>https://timesofmalta.com/articles/view/robert-...</td>\n",
       "      <td>murder</td>\n",
       "    </tr>\n",
       "  </tbody>\n",
       "</table>\n",
       "</div>"
      ],
      "text/plain": [
       "                                                 URL Keyword\n",
       "0  https://timesofmalta.com/articles/view/libel-j...  murder\n",
       "1  https://timesofmalta.com/articles/view/daughte...  murder\n",
       "2  https://timesofmalta.com/articles/view/executi...  murder\n",
       "3  https://timesofmalta.com/articles/view/two-acc...  murder\n",
       "4  https://timesofmalta.com/articles/view/robert-...  murder"
      ]
     },
     "execution_count": 6,
     "metadata": {},
     "output_type": "execute_result"
    }
   ],
   "source": [
    "df.head()"
   ]
  },
  {
   "cell_type": "code",
   "execution_count": 8,
   "id": "f9fe3434-b938-482c-b200-f81724403c0e",
   "metadata": {},
   "outputs": [
    {
     "data": {
      "text/plain": [
       "(40, 2)"
      ]
     },
     "execution_count": 8,
     "metadata": {},
     "output_type": "execute_result"
    }
   ],
   "source": [
    "df.shape"
   ]
  },
  {
   "cell_type": "markdown",
   "id": "64c53036-da0e-4880-9470-f6c153526e49",
   "metadata": {},
   "source": [
    "Step 2. Scraping URLs for information such as title, date, text body etc..."
   ]
  },
  {
   "cell_type": "markdown",
   "id": "d1038712-d8d9-46dc-a0df-0ff35162148e",
   "metadata": {},
   "source": [
    "*Scraping content of URLs function*"
   ]
  },
  {
   "cell_type": "code",
   "execution_count": 9,
   "id": "b44a7086-4c2b-4a11-9930-b86277dbbeb8",
   "metadata": {},
   "outputs": [],
   "source": [
    "def scrape_webpage(url):\n",
    "    try:\n",
    "        r = requests.get(url, timeout=5)\n",
    "        r.raise_for_status()\n",
    "    except (requests.exceptions.RequestException, requests.exceptions.HTTPError) as err:\n",
    "        print(f\"An error occurred: {err}\")\n",
    "        return None\n",
    "\n",
    "    html_content = r.content\n",
    "    soup = BeautifulSoup(html_content, 'lxml')\n",
    "    script = soup.find('script', {'id': 'article-ld'})\n",
    "\n",
    "    if script is None:\n",
    "        return None\n",
    "\n",
    "    try:\n",
    "        data = json.loads(script.string)\n",
    "    except json.JSONDecodeError as err:\n",
    "        print(f\"An error occurred: {err}\")\n",
    "        return None\n",
    "\n",
    "    # Extract data from JSON content\n",
    "    try:\n",
    "        df_page = pd.DataFrame({\n",
    "            'Title': [article['name'] for article in data['@graph']],\n",
    "            'Description': [article['description'] for article in data['@graph']],\n",
    "            'URL': [article['url'] for article in data['@graph']],\n",
    "            'Body': [article['articleBody'] for article in data['@graph']],\n",
    "            'Tags': [article['keywords'].split(',') for article in data['@graph']],\n",
    "            'Author': [article['author'][0]['name'] for article in data['@graph']],\n",
    "            'Date Published': [article['datePublished'] for article in data['@graph']],\n",
    "            'Date Modified': [article['dateModified'] for article in data['@graph']],\n",
    "            'Publisher': [article['publisher']['@id'] for article in data['@graph']],\n",
    "            'Images': [[img['url'] for img in article['image']] for article in data['@graph']]\n",
    "        })\n",
    "    except KeyError as err:\n",
    "        print(f\"An error occurred: {err}\")\n",
    "        return None\n",
    "\n",
    "    # Sleep to avoid rate limits\n",
    "    time.sleep(random.uniform(1, 3))\n",
    "\n",
    "    return df_page\n"
   ]
  },
  {
   "cell_type": "code",
   "execution_count": 10,
   "id": "953642da-fa3a-4827-96e9-94b7bc58a6a3",
   "metadata": {},
   "outputs": [],
   "source": [
    "new_df = pd.DataFrame(columns=['Title', 'Description', 'URL', 'Body', 'Tags', 'Author', 'Date Published', 'Date Modified', 'Publisher', 'Images'])\n",
    "\n",
    "for url in df['URL']:\n",
    "    scraped_data = scrape_webpage(url)\n",
    "    if scraped_data is not None:\n",
    "        new_df = pd.concat([new_df, scraped_data], ignore_index=True)\n"
   ]
  },
  {
   "cell_type": "code",
   "execution_count": 11,
   "id": "34e187a8-adf8-4771-b2b0-19d0683411b1",
   "metadata": {},
   "outputs": [
    {
     "data": {
      "text/html": [
       "<div>\n",
       "<style scoped>\n",
       "    .dataframe tbody tr th:only-of-type {\n",
       "        vertical-align: middle;\n",
       "    }\n",
       "\n",
       "    .dataframe tbody tr th {\n",
       "        vertical-align: top;\n",
       "    }\n",
       "\n",
       "    .dataframe thead th {\n",
       "        text-align: right;\n",
       "    }\n",
       "</style>\n",
       "<table border=\"1\" class=\"dataframe\">\n",
       "  <thead>\n",
       "    <tr style=\"text-align: right;\">\n",
       "      <th></th>\n",
       "      <th>Title</th>\n",
       "      <th>Description</th>\n",
       "      <th>URL</th>\n",
       "      <th>Body</th>\n",
       "      <th>Tags</th>\n",
       "      <th>Author</th>\n",
       "      <th>Date Published</th>\n",
       "      <th>Date Modified</th>\n",
       "      <th>Publisher</th>\n",
       "      <th>Images</th>\n",
       "    </tr>\n",
       "  </thead>\n",
       "  <tbody>\n",
       "    <tr>\n",
       "      <th>0</th>\n",
       "      <td>Libel judgments against Caruana Galizia heirs ...</td>\n",
       "      <td>Murdered journalist’s husband and sons could n...</td>\n",
       "      <td>https://timesofmalta.com/articles/view/libel-j...</td>\n",
       "      <td>Libel judgments that have ruled against Daphne...</td>\n",
       "      <td>[National, Daphne Caruana Galizia, Court]</td>\n",
       "      <td>Times of Malta</td>\n",
       "      <td>2023-07-14T14:30:00+02:00</td>\n",
       "      <td>2023-07-14T15:33:16+02:00</td>\n",
       "      <td>https://timesofmalta.com#organization</td>\n",
       "      <td>[https://cdn-attachments.timesofmalta.com/48aa...</td>\n",
       "    </tr>\n",
       "    <tr>\n",
       "      <th>1</th>\n",
       "      <td>Daughter of murdered baron claims delays in ca...</td>\n",
       "      <td>Baron Francis Sant Cassia was murdered 35 year...</td>\n",
       "      <td>https://timesofmalta.com/articles/view/daughte...</td>\n",
       "      <td>The daughter of the late Baron Francis Sant Ca...</td>\n",
       "      <td>[National, Court, Murder, Justice]</td>\n",
       "      <td>Edwina Brincat</td>\n",
       "      <td>2023-07-14T11:35:00+02:00</td>\n",
       "      <td>2023-07-14T11:48:48+02:00</td>\n",
       "      <td>https://timesofmalta.com#organization</td>\n",
       "      <td>[https://cdn-attachments.timesofmalta.com/af78...</td>\n",
       "    </tr>\n",
       "    <tr>\n",
       "      <th>2</th>\n",
       "      <td>Execution of Ohio man delayed until 2027</td>\n",
       "      <td>LaMar was convicted of killing five fellow inm...</td>\n",
       "      <td>https://timesofmalta.com/articles/view/executi...</td>\n",
       "      <td>A US state governor on Thursday postponed the ...</td>\n",
       "      <td>[World, USA, Justice, Music]</td>\n",
       "      <td>AFP</td>\n",
       "      <td>2023-07-14T08:01:00+02:00</td>\n",
       "      <td>2023-07-14T12:36:02+02:00</td>\n",
       "      <td>https://timesofmalta.com#organization</td>\n",
       "      <td>[https://cdn-attachments.timesofmalta.com/3e28...</td>\n",
       "    </tr>\n",
       "    <tr>\n",
       "      <th>3</th>\n",
       "      <td>Two accused of attempted murder after Marsasca...</td>\n",
       "      <td>Two Italian men were injured, one seriously, i...</td>\n",
       "      <td>https://timesofmalta.com/articles/view/two-acc...</td>\n",
       "      <td>Two men were remanded in custody on Thursday a...</td>\n",
       "      <td>[National, Court, Crime, Marsascala]</td>\n",
       "      <td>Edwina Brincat</td>\n",
       "      <td>2023-07-13T18:17:00+02:00</td>\n",
       "      <td>2023-07-13T18:37:51+02:00</td>\n",
       "      <td>https://timesofmalta.com#organization</td>\n",
       "      <td>[https://cdn-attachments.timesofmalta.com/24d0...</td>\n",
       "    </tr>\n",
       "    <tr>\n",
       "      <th>4</th>\n",
       "      <td>Robert Abela vows to publish magisterial inqui...</td>\n",
       "      <td>Victim's mother was among those reacting to a ...</td>\n",
       "      <td>https://timesofmalta.com/articles/view/robert-...</td>\n",
       "      <td>Robert Abela on Thursday pledged to publish th...</td>\n",
       "      <td>[National, Construction, Robert Abela, Acciden...</td>\n",
       "      <td>Sarah Carabott</td>\n",
       "      <td>2023-07-13T15:07:00+02:00</td>\n",
       "      <td>2023-07-13T16:07:07+02:00</td>\n",
       "      <td>https://timesofmalta.com#organization</td>\n",
       "      <td>[https://cdn-attachments.timesofmalta.com/e036...</td>\n",
       "    </tr>\n",
       "  </tbody>\n",
       "</table>\n",
       "</div>"
      ],
      "text/plain": [
       "                                               Title  \\\n",
       "0  Libel judgments against Caruana Galizia heirs ...   \n",
       "1  Daughter of murdered baron claims delays in ca...   \n",
       "2           Execution of Ohio man delayed until 2027   \n",
       "3  Two accused of attempted murder after Marsasca...   \n",
       "4  Robert Abela vows to publish magisterial inqui...   \n",
       "\n",
       "                                         Description  \\\n",
       "0  Murdered journalist’s husband and sons could n...   \n",
       "1  Baron Francis Sant Cassia was murdered 35 year...   \n",
       "2  LaMar was convicted of killing five fellow inm...   \n",
       "3  Two Italian men were injured, one seriously, i...   \n",
       "4  Victim's mother was among those reacting to a ...   \n",
       "\n",
       "                                                 URL  \\\n",
       "0  https://timesofmalta.com/articles/view/libel-j...   \n",
       "1  https://timesofmalta.com/articles/view/daughte...   \n",
       "2  https://timesofmalta.com/articles/view/executi...   \n",
       "3  https://timesofmalta.com/articles/view/two-acc...   \n",
       "4  https://timesofmalta.com/articles/view/robert-...   \n",
       "\n",
       "                                                Body  \\\n",
       "0  Libel judgments that have ruled against Daphne...   \n",
       "1  The daughter of the late Baron Francis Sant Ca...   \n",
       "2  A US state governor on Thursday postponed the ...   \n",
       "3  Two men were remanded in custody on Thursday a...   \n",
       "4  Robert Abela on Thursday pledged to publish th...   \n",
       "\n",
       "                                                Tags           Author  \\\n",
       "0          [National, Daphne Caruana Galizia, Court]   Times of Malta   \n",
       "1                 [National, Court, Murder, Justice]  Edwina Brincat    \n",
       "2                       [World, USA, Justice, Music]              AFP   \n",
       "3               [National, Court, Crime, Marsascala]  Edwina Brincat    \n",
       "4  [National, Construction, Robert Abela, Acciden...   Sarah Carabott   \n",
       "\n",
       "              Date Published              Date Modified  \\\n",
       "0  2023-07-14T14:30:00+02:00  2023-07-14T15:33:16+02:00   \n",
       "1  2023-07-14T11:35:00+02:00  2023-07-14T11:48:48+02:00   \n",
       "2  2023-07-14T08:01:00+02:00  2023-07-14T12:36:02+02:00   \n",
       "3  2023-07-13T18:17:00+02:00  2023-07-13T18:37:51+02:00   \n",
       "4  2023-07-13T15:07:00+02:00  2023-07-13T16:07:07+02:00   \n",
       "\n",
       "                               Publisher  \\\n",
       "0  https://timesofmalta.com#organization   \n",
       "1  https://timesofmalta.com#organization   \n",
       "2  https://timesofmalta.com#organization   \n",
       "3  https://timesofmalta.com#organization   \n",
       "4  https://timesofmalta.com#organization   \n",
       "\n",
       "                                              Images  \n",
       "0  [https://cdn-attachments.timesofmalta.com/48aa...  \n",
       "1  [https://cdn-attachments.timesofmalta.com/af78...  \n",
       "2  [https://cdn-attachments.timesofmalta.com/3e28...  \n",
       "3  [https://cdn-attachments.timesofmalta.com/24d0...  \n",
       "4  [https://cdn-attachments.timesofmalta.com/e036...  "
      ]
     },
     "execution_count": 11,
     "metadata": {},
     "output_type": "execute_result"
    }
   ],
   "source": [
    "new_df.head()"
   ]
  },
  {
   "cell_type": "code",
   "execution_count": null,
   "id": "7ecc2ac8-671c-49b1-b8c0-0f256130b194",
   "metadata": {},
   "outputs": [],
   "source": []
  }
 ],
 "metadata": {
  "kernelspec": {
   "display_name": "Python 3 (ipykernel)",
   "language": "python",
   "name": "python3"
  },
  "language_info": {
   "codemirror_mode": {
    "name": "ipython",
    "version": 3
   },
   "file_extension": ".py",
   "mimetype": "text/x-python",
   "name": "python",
   "nbconvert_exporter": "python",
   "pygments_lexer": "ipython3",
   "version": "3.10.9"
  }
 },
 "nbformat": 4,
 "nbformat_minor": 5
}
